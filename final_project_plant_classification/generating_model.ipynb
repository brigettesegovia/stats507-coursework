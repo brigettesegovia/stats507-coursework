{
 "cells": [
  {
   "cell_type": "markdown",
   "metadata": {},
   "source": [
    "# Final Project: Hugging Face (Generating the Model)"
   ]
  },
  {
   "cell_type": "markdown",
   "metadata": {},
   "source": [
    "This code uses : [https://huggingface.co/docs/datasets/en/quickstart#vision]\n",
    "\n",
    "Important Note: In this code I will be showing how to train a model for image classification. In order to run and edit this code, you must first create a Hugging Face account and login while running this code. This way, the Finetuned model may be saved into your profile. \n",
    "\n",
    "If you chose to not generate your own model and simply test my plant_classification model, check the testing_model.ipynb notebook"
   ]
  },
  {
   "cell_type": "code",
   "execution_count": 1,
   "metadata": {},
   "outputs": [
    {
     "name": "stdout",
     "output_type": "stream",
     "text": [
      "Requirement already satisfied: datasets in /usr/local/anaconda/lib/python3.12/site-packages (3.1.0)\n",
      "Requirement already satisfied: filelock in /usr/local/anaconda/lib/python3.12/site-packages (from datasets) (3.13.1)\n",
      "Requirement already satisfied: numpy>=1.17 in /usr/local/anaconda/lib/python3.12/site-packages (from datasets) (1.26.4)\n",
      "Requirement already satisfied: pyarrow>=15.0.0 in /usr/local/anaconda/lib/python3.12/site-packages (from datasets) (18.0.0)\n",
      "Requirement already satisfied: dill<0.3.9,>=0.3.0 in /usr/local/anaconda/lib/python3.12/site-packages (from datasets) (0.3.8)\n",
      "Requirement already satisfied: pandas in /usr/local/anaconda/lib/python3.12/site-packages (from datasets) (2.2.2)\n",
      "Requirement already satisfied: requests>=2.32.2 in /usr/local/anaconda/lib/python3.12/site-packages (from datasets) (2.32.2)\n",
      "Requirement already satisfied: tqdm>=4.66.3 in /usr/local/anaconda/lib/python3.12/site-packages (from datasets) (4.66.4)\n",
      "Requirement already satisfied: xxhash in /usr/local/anaconda/lib/python3.12/site-packages (from datasets) (3.5.0)\n",
      "Requirement already satisfied: multiprocess<0.70.17 in /usr/local/anaconda/lib/python3.12/site-packages (from datasets) (0.70.16)\n",
      "Requirement already satisfied: fsspec<=2024.9.0,>=2023.1.0 in /usr/local/anaconda/lib/python3.12/site-packages (from fsspec[http]<=2024.9.0,>=2023.1.0->datasets) (2024.3.1)\n",
      "Requirement already satisfied: aiohttp in /usr/local/anaconda/lib/python3.12/site-packages (from datasets) (3.9.5)\n",
      "Requirement already satisfied: huggingface-hub>=0.23.0 in /usr/local/anaconda/lib/python3.12/site-packages (from datasets) (0.26.2)\n",
      "Requirement already satisfied: packaging in /usr/local/anaconda/lib/python3.12/site-packages (from datasets) (23.2)\n",
      "Requirement already satisfied: pyyaml>=5.1 in /usr/local/anaconda/lib/python3.12/site-packages (from datasets) (6.0.1)\n",
      "Requirement already satisfied: aiosignal>=1.1.2 in /usr/local/anaconda/lib/python3.12/site-packages (from aiohttp->datasets) (1.2.0)\n",
      "Requirement already satisfied: attrs>=17.3.0 in /usr/local/anaconda/lib/python3.12/site-packages (from aiohttp->datasets) (23.1.0)\n",
      "Requirement already satisfied: frozenlist>=1.1.1 in /usr/local/anaconda/lib/python3.12/site-packages (from aiohttp->datasets) (1.4.0)\n",
      "Requirement already satisfied: multidict<7.0,>=4.5 in /usr/local/anaconda/lib/python3.12/site-packages (from aiohttp->datasets) (6.0.4)\n",
      "Requirement already satisfied: yarl<2.0,>=1.0 in /usr/local/anaconda/lib/python3.12/site-packages (from aiohttp->datasets) (1.9.3)\n",
      "Requirement already satisfied: typing-extensions>=3.7.4.3 in /usr/local/anaconda/lib/python3.12/site-packages (from huggingface-hub>=0.23.0->datasets) (4.11.0)\n",
      "Requirement already satisfied: charset-normalizer<4,>=2 in /usr/local/anaconda/lib/python3.12/site-packages (from requests>=2.32.2->datasets) (2.0.4)\n",
      "Requirement already satisfied: idna<4,>=2.5 in /usr/local/anaconda/lib/python3.12/site-packages (from requests>=2.32.2->datasets) (3.7)\n",
      "Requirement already satisfied: urllib3<3,>=1.21.1 in /usr/local/anaconda/lib/python3.12/site-packages (from requests>=2.32.2->datasets) (2.2.2)\n",
      "Requirement already satisfied: certifi>=2017.4.17 in /usr/local/anaconda/lib/python3.12/site-packages (from requests>=2.32.2->datasets) (2024.7.4)\n",
      "Requirement already satisfied: python-dateutil>=2.8.2 in /usr/local/anaconda/lib/python3.12/site-packages (from pandas->datasets) (2.9.0.post0)\n",
      "Requirement already satisfied: pytz>=2020.1 in /usr/local/anaconda/lib/python3.12/site-packages (from pandas->datasets) (2024.1)\n",
      "Requirement already satisfied: tzdata>=2022.7 in /usr/local/anaconda/lib/python3.12/site-packages (from pandas->datasets) (2023.3)\n",
      "Requirement already satisfied: six>=1.5 in /usr/local/anaconda/lib/python3.12/site-packages (from python-dateutil>=2.8.2->pandas->datasets) (1.16.0)\n",
      "zsh:1: no matches found: datasets[vision]\n",
      "Requirement already satisfied: torch in /usr/local/anaconda/lib/python3.12/site-packages (2.5.1)\n",
      "Requirement already satisfied: filelock in /usr/local/anaconda/lib/python3.12/site-packages (from torch) (3.13.1)\n",
      "Requirement already satisfied: typing-extensions>=4.8.0 in /usr/local/anaconda/lib/python3.12/site-packages (from torch) (4.11.0)\n",
      "Requirement already satisfied: networkx in /usr/local/anaconda/lib/python3.12/site-packages (from torch) (3.2.1)\n",
      "Requirement already satisfied: jinja2 in /usr/local/anaconda/lib/python3.12/site-packages (from torch) (3.1.4)\n",
      "Requirement already satisfied: fsspec in /usr/local/anaconda/lib/python3.12/site-packages (from torch) (2024.3.1)\n",
      "Requirement already satisfied: setuptools in /usr/local/anaconda/lib/python3.12/site-packages (from torch) (69.5.1)\n",
      "Requirement already satisfied: sympy==1.13.1 in /usr/local/anaconda/lib/python3.12/site-packages (from torch) (1.13.1)\n",
      "Requirement already satisfied: mpmath<1.4,>=1.1.0 in /usr/local/anaconda/lib/python3.12/site-packages (from sympy==1.13.1->torch) (1.3.0)\n",
      "Requirement already satisfied: MarkupSafe>=2.0 in /usr/local/anaconda/lib/python3.12/site-packages (from jinja2->torch) (2.1.3)\n",
      "Requirement already satisfied: torchvision in /usr/local/anaconda/lib/python3.12/site-packages (0.20.1)\n",
      "Requirement already satisfied: numpy in /usr/local/anaconda/lib/python3.12/site-packages (from torchvision) (1.26.4)\n",
      "Requirement already satisfied: torch==2.5.1 in /usr/local/anaconda/lib/python3.12/site-packages (from torchvision) (2.5.1)\n",
      "Requirement already satisfied: pillow!=8.3.*,>=5.3.0 in /usr/local/anaconda/lib/python3.12/site-packages (from torchvision) (10.3.0)\n",
      "Requirement already satisfied: filelock in /usr/local/anaconda/lib/python3.12/site-packages (from torch==2.5.1->torchvision) (3.13.1)\n",
      "Requirement already satisfied: typing-extensions>=4.8.0 in /usr/local/anaconda/lib/python3.12/site-packages (from torch==2.5.1->torchvision) (4.11.0)\n",
      "Requirement already satisfied: networkx in /usr/local/anaconda/lib/python3.12/site-packages (from torch==2.5.1->torchvision) (3.2.1)\n",
      "Requirement already satisfied: jinja2 in /usr/local/anaconda/lib/python3.12/site-packages (from torch==2.5.1->torchvision) (3.1.4)\n",
      "Requirement already satisfied: fsspec in /usr/local/anaconda/lib/python3.12/site-packages (from torch==2.5.1->torchvision) (2024.3.1)\n",
      "Requirement already satisfied: setuptools in /usr/local/anaconda/lib/python3.12/site-packages (from torch==2.5.1->torchvision) (69.5.1)\n",
      "Requirement already satisfied: sympy==1.13.1 in /usr/local/anaconda/lib/python3.12/site-packages (from torch==2.5.1->torchvision) (1.13.1)\n",
      "Requirement already satisfied: mpmath<1.4,>=1.1.0 in /usr/local/anaconda/lib/python3.12/site-packages (from sympy==1.13.1->torch==2.5.1->torchvision) (1.3.0)\n",
      "Requirement already satisfied: MarkupSafe>=2.0 in /usr/local/anaconda/lib/python3.12/site-packages (from jinja2->torch==2.5.1->torchvision) (2.1.3)\n",
      "zsh:1: no matches found: transformers[torch]\n",
      "Requirement already satisfied: accelerate>=0.26.0 in /usr/local/anaconda/lib/python3.12/site-packages (1.1.1)\n",
      "Requirement already satisfied: huggingface-hub>=0.21.0 in /usr/local/anaconda/lib/python3.12/site-packages (from accelerate>=0.26.0) (0.26.2)\n",
      "Requirement already satisfied: numpy<3.0.0,>=1.17 in /usr/local/anaconda/lib/python3.12/site-packages (from accelerate>=0.26.0) (1.26.4)\n",
      "Requirement already satisfied: packaging>=20.0 in /usr/local/anaconda/lib/python3.12/site-packages (from accelerate>=0.26.0) (23.2)\n",
      "Requirement already satisfied: psutil in /usr/local/anaconda/lib/python3.12/site-packages (from accelerate>=0.26.0) (5.9.0)\n",
      "Requirement already satisfied: pyyaml in /usr/local/anaconda/lib/python3.12/site-packages (from accelerate>=0.26.0) (6.0.1)\n",
      "Requirement already satisfied: safetensors>=0.4.3 in /usr/local/anaconda/lib/python3.12/site-packages (from accelerate>=0.26.0) (0.4.5)\n",
      "Requirement already satisfied: torch>=1.10.0 in /usr/local/anaconda/lib/python3.12/site-packages (from accelerate>=0.26.0) (2.5.1)\n",
      "Requirement already satisfied: filelock in /usr/local/anaconda/lib/python3.12/site-packages (from huggingface-hub>=0.21.0->accelerate>=0.26.0) (3.13.1)\n",
      "Requirement already satisfied: fsspec>=2023.5.0 in /usr/local/anaconda/lib/python3.12/site-packages (from huggingface-hub>=0.21.0->accelerate>=0.26.0) (2024.3.1)\n",
      "Requirement already satisfied: requests in /usr/local/anaconda/lib/python3.12/site-packages (from huggingface-hub>=0.21.0->accelerate>=0.26.0) (2.32.2)\n",
      "Requirement already satisfied: tqdm>=4.42.1 in /usr/local/anaconda/lib/python3.12/site-packages (from huggingface-hub>=0.21.0->accelerate>=0.26.0) (4.66.4)\n",
      "Requirement already satisfied: typing-extensions>=3.7.4.3 in /usr/local/anaconda/lib/python3.12/site-packages (from huggingface-hub>=0.21.0->accelerate>=0.26.0) (4.11.0)\n",
      "Requirement already satisfied: networkx in /usr/local/anaconda/lib/python3.12/site-packages (from torch>=1.10.0->accelerate>=0.26.0) (3.2.1)\n",
      "Requirement already satisfied: jinja2 in /usr/local/anaconda/lib/python3.12/site-packages (from torch>=1.10.0->accelerate>=0.26.0) (3.1.4)\n",
      "Requirement already satisfied: setuptools in /usr/local/anaconda/lib/python3.12/site-packages (from torch>=1.10.0->accelerate>=0.26.0) (69.5.1)\n",
      "Requirement already satisfied: sympy==1.13.1 in /usr/local/anaconda/lib/python3.12/site-packages (from torch>=1.10.0->accelerate>=0.26.0) (1.13.1)\n",
      "Requirement already satisfied: mpmath<1.4,>=1.1.0 in /usr/local/anaconda/lib/python3.12/site-packages (from sympy==1.13.1->torch>=1.10.0->accelerate>=0.26.0) (1.3.0)\n",
      "Requirement already satisfied: MarkupSafe>=2.0 in /usr/local/anaconda/lib/python3.12/site-packages (from jinja2->torch>=1.10.0->accelerate>=0.26.0) (2.1.3)\n",
      "Requirement already satisfied: charset-normalizer<4,>=2 in /usr/local/anaconda/lib/python3.12/site-packages (from requests->huggingface-hub>=0.21.0->accelerate>=0.26.0) (2.0.4)\n",
      "Requirement already satisfied: idna<4,>=2.5 in /usr/local/anaconda/lib/python3.12/site-packages (from requests->huggingface-hub>=0.21.0->accelerate>=0.26.0) (3.7)\n",
      "Requirement already satisfied: urllib3<3,>=1.21.1 in /usr/local/anaconda/lib/python3.12/site-packages (from requests->huggingface-hub>=0.21.0->accelerate>=0.26.0) (2.2.2)\n",
      "Requirement already satisfied: certifi>=2017.4.17 in /usr/local/anaconda/lib/python3.12/site-packages (from requests->huggingface-hub>=0.21.0->accelerate>=0.26.0) (2024.7.4)\n",
      "Requirement already satisfied: transformers in /usr/local/anaconda/lib/python3.12/site-packages (4.46.2)\n",
      "Requirement already satisfied: filelock in /usr/local/anaconda/lib/python3.12/site-packages (from transformers) (3.13.1)\n",
      "Requirement already satisfied: huggingface-hub<1.0,>=0.23.2 in /usr/local/anaconda/lib/python3.12/site-packages (from transformers) (0.26.2)\n",
      "Requirement already satisfied: numpy>=1.17 in /usr/local/anaconda/lib/python3.12/site-packages (from transformers) (1.26.4)\n",
      "Requirement already satisfied: packaging>=20.0 in /usr/local/anaconda/lib/python3.12/site-packages (from transformers) (23.2)\n",
      "Requirement already satisfied: pyyaml>=5.1 in /usr/local/anaconda/lib/python3.12/site-packages (from transformers) (6.0.1)\n",
      "Requirement already satisfied: regex!=2019.12.17 in /usr/local/anaconda/lib/python3.12/site-packages (from transformers) (2023.10.3)\n",
      "Requirement already satisfied: requests in /usr/local/anaconda/lib/python3.12/site-packages (from transformers) (2.32.2)\n",
      "Requirement already satisfied: safetensors>=0.4.1 in /usr/local/anaconda/lib/python3.12/site-packages (from transformers) (0.4.5)\n",
      "Requirement already satisfied: tokenizers<0.21,>=0.20 in /usr/local/anaconda/lib/python3.12/site-packages (from transformers) (0.20.3)\n",
      "Requirement already satisfied: tqdm>=4.27 in /usr/local/anaconda/lib/python3.12/site-packages (from transformers) (4.66.4)\n",
      "Requirement already satisfied: fsspec>=2023.5.0 in /usr/local/anaconda/lib/python3.12/site-packages (from huggingface-hub<1.0,>=0.23.2->transformers) (2024.3.1)\n",
      "Requirement already satisfied: typing-extensions>=3.7.4.3 in /usr/local/anaconda/lib/python3.12/site-packages (from huggingface-hub<1.0,>=0.23.2->transformers) (4.11.0)\n",
      "Requirement already satisfied: charset-normalizer<4,>=2 in /usr/local/anaconda/lib/python3.12/site-packages (from requests->transformers) (2.0.4)\n",
      "Requirement already satisfied: idna<4,>=2.5 in /usr/local/anaconda/lib/python3.12/site-packages (from requests->transformers) (3.7)\n",
      "Requirement already satisfied: urllib3<3,>=1.21.1 in /usr/local/anaconda/lib/python3.12/site-packages (from requests->transformers) (2.2.2)\n",
      "Requirement already satisfied: certifi>=2017.4.17 in /usr/local/anaconda/lib/python3.12/site-packages (from requests->transformers) (2024.7.4)\n",
      "Requirement already satisfied: evaluate in /usr/local/anaconda/lib/python3.12/site-packages (0.4.3)\n",
      "Requirement already satisfied: datasets>=2.0.0 in /usr/local/anaconda/lib/python3.12/site-packages (from evaluate) (3.1.0)\n",
      "Requirement already satisfied: numpy>=1.17 in /usr/local/anaconda/lib/python3.12/site-packages (from evaluate) (1.26.4)\n",
      "Requirement already satisfied: dill in /usr/local/anaconda/lib/python3.12/site-packages (from evaluate) (0.3.8)\n",
      "Requirement already satisfied: pandas in /usr/local/anaconda/lib/python3.12/site-packages (from evaluate) (2.2.2)\n",
      "Requirement already satisfied: requests>=2.19.0 in /usr/local/anaconda/lib/python3.12/site-packages (from evaluate) (2.32.2)\n",
      "Requirement already satisfied: tqdm>=4.62.1 in /usr/local/anaconda/lib/python3.12/site-packages (from evaluate) (4.66.4)\n",
      "Requirement already satisfied: xxhash in /usr/local/anaconda/lib/python3.12/site-packages (from evaluate) (3.5.0)\n",
      "Requirement already satisfied: multiprocess in /usr/local/anaconda/lib/python3.12/site-packages (from evaluate) (0.70.16)\n",
      "Requirement already satisfied: fsspec>=2021.05.0 in /usr/local/anaconda/lib/python3.12/site-packages (from fsspec[http]>=2021.05.0->evaluate) (2024.3.1)\n",
      "Requirement already satisfied: huggingface-hub>=0.7.0 in /usr/local/anaconda/lib/python3.12/site-packages (from evaluate) (0.26.2)\n",
      "Requirement already satisfied: packaging in /usr/local/anaconda/lib/python3.12/site-packages (from evaluate) (23.2)\n",
      "Requirement already satisfied: filelock in /usr/local/anaconda/lib/python3.12/site-packages (from datasets>=2.0.0->evaluate) (3.13.1)\n",
      "Requirement already satisfied: pyarrow>=15.0.0 in /usr/local/anaconda/lib/python3.12/site-packages (from datasets>=2.0.0->evaluate) (18.0.0)\n",
      "Requirement already satisfied: aiohttp in /usr/local/anaconda/lib/python3.12/site-packages (from datasets>=2.0.0->evaluate) (3.9.5)\n",
      "Requirement already satisfied: pyyaml>=5.1 in /usr/local/anaconda/lib/python3.12/site-packages (from datasets>=2.0.0->evaluate) (6.0.1)\n",
      "Requirement already satisfied: typing-extensions>=3.7.4.3 in /usr/local/anaconda/lib/python3.12/site-packages (from huggingface-hub>=0.7.0->evaluate) (4.11.0)\n",
      "Requirement already satisfied: charset-normalizer<4,>=2 in /usr/local/anaconda/lib/python3.12/site-packages (from requests>=2.19.0->evaluate) (2.0.4)\n",
      "Requirement already satisfied: idna<4,>=2.5 in /usr/local/anaconda/lib/python3.12/site-packages (from requests>=2.19.0->evaluate) (3.7)\n",
      "Requirement already satisfied: urllib3<3,>=1.21.1 in /usr/local/anaconda/lib/python3.12/site-packages (from requests>=2.19.0->evaluate) (2.2.2)\n",
      "Requirement already satisfied: certifi>=2017.4.17 in /usr/local/anaconda/lib/python3.12/site-packages (from requests>=2.19.0->evaluate) (2024.7.4)\n",
      "Requirement already satisfied: python-dateutil>=2.8.2 in /usr/local/anaconda/lib/python3.12/site-packages (from pandas->evaluate) (2.9.0.post0)\n",
      "Requirement already satisfied: pytz>=2020.1 in /usr/local/anaconda/lib/python3.12/site-packages (from pandas->evaluate) (2024.1)\n",
      "Requirement already satisfied: tzdata>=2022.7 in /usr/local/anaconda/lib/python3.12/site-packages (from pandas->evaluate) (2023.3)\n",
      "Requirement already satisfied: aiosignal>=1.1.2 in /usr/local/anaconda/lib/python3.12/site-packages (from aiohttp->datasets>=2.0.0->evaluate) (1.2.0)\n",
      "Requirement already satisfied: attrs>=17.3.0 in /usr/local/anaconda/lib/python3.12/site-packages (from aiohttp->datasets>=2.0.0->evaluate) (23.1.0)\n",
      "Requirement already satisfied: frozenlist>=1.1.1 in /usr/local/anaconda/lib/python3.12/site-packages (from aiohttp->datasets>=2.0.0->evaluate) (1.4.0)\n",
      "Requirement already satisfied: multidict<7.0,>=4.5 in /usr/local/anaconda/lib/python3.12/site-packages (from aiohttp->datasets>=2.0.0->evaluate) (6.0.4)\n",
      "Requirement already satisfied: yarl<2.0,>=1.0 in /usr/local/anaconda/lib/python3.12/site-packages (from aiohttp->datasets>=2.0.0->evaluate) (1.9.3)\n",
      "Requirement already satisfied: six>=1.5 in /usr/local/anaconda/lib/python3.12/site-packages (from python-dateutil>=2.8.2->pandas->evaluate) (1.16.0)\n",
      "Requirement already satisfied: Pillow in /usr/local/anaconda/lib/python3.12/site-packages (10.3.0)\n",
      "Requirement already satisfied: keras in /usr/local/anaconda/lib/python3.12/site-packages (3.6.0)\n",
      "Requirement already satisfied: absl-py in /usr/local/anaconda/lib/python3.12/site-packages (from keras) (2.1.0)\n",
      "Requirement already satisfied: numpy in /usr/local/anaconda/lib/python3.12/site-packages (from keras) (1.26.4)\n",
      "Requirement already satisfied: rich in /usr/local/anaconda/lib/python3.12/site-packages (from keras) (13.3.5)\n",
      "Requirement already satisfied: namex in /usr/local/anaconda/lib/python3.12/site-packages (from keras) (0.0.8)\n",
      "Requirement already satisfied: h5py in /usr/local/anaconda/lib/python3.12/site-packages (from keras) (3.11.0)\n",
      "Requirement already satisfied: optree in /usr/local/anaconda/lib/python3.12/site-packages (from keras) (0.13.1)\n",
      "Requirement already satisfied: ml-dtypes in /usr/local/anaconda/lib/python3.12/site-packages (from keras) (0.4.0)\n",
      "Requirement already satisfied: packaging in /usr/local/anaconda/lib/python3.12/site-packages (from keras) (23.2)\n",
      "Requirement already satisfied: typing-extensions>=4.5.0 in /usr/local/anaconda/lib/python3.12/site-packages (from optree->keras) (4.11.0)\n",
      "Requirement already satisfied: markdown-it-py<3.0.0,>=2.2.0 in /usr/local/anaconda/lib/python3.12/site-packages (from rich->keras) (2.2.0)\n",
      "Requirement already satisfied: pygments<3.0.0,>=2.13.0 in /usr/local/anaconda/lib/python3.12/site-packages (from rich->keras) (2.15.1)\n",
      "Requirement already satisfied: mdurl~=0.1 in /usr/local/anaconda/lib/python3.12/site-packages (from markdown-it-py<3.0.0,>=2.2.0->rich->keras) (0.1.0)\n",
      "Requirement already satisfied: tensorflow in /usr/local/anaconda/lib/python3.12/site-packages (2.18.0)\n",
      "Requirement already satisfied: absl-py>=1.0.0 in /usr/local/anaconda/lib/python3.12/site-packages (from tensorflow) (2.1.0)\n",
      "Requirement already satisfied: astunparse>=1.6.0 in /usr/local/anaconda/lib/python3.12/site-packages (from tensorflow) (1.6.3)\n",
      "Requirement already satisfied: flatbuffers>=24.3.25 in /usr/local/anaconda/lib/python3.12/site-packages (from tensorflow) (24.3.25)\n",
      "Requirement already satisfied: gast!=0.5.0,!=0.5.1,!=0.5.2,>=0.2.1 in /usr/local/anaconda/lib/python3.12/site-packages (from tensorflow) (0.6.0)\n",
      "Requirement already satisfied: google-pasta>=0.1.1 in /usr/local/anaconda/lib/python3.12/site-packages (from tensorflow) (0.2.0)\n",
      "Requirement already satisfied: libclang>=13.0.0 in /usr/local/anaconda/lib/python3.12/site-packages (from tensorflow) (18.1.1)\n",
      "Requirement already satisfied: opt-einsum>=2.3.2 in /usr/local/anaconda/lib/python3.12/site-packages (from tensorflow) (3.3.0)\n",
      "Requirement already satisfied: packaging in /usr/local/anaconda/lib/python3.12/site-packages (from tensorflow) (23.2)\n",
      "Requirement already satisfied: protobuf!=4.21.0,!=4.21.1,!=4.21.2,!=4.21.3,!=4.21.4,!=4.21.5,<6.0.0dev,>=3.20.3 in /usr/local/anaconda/lib/python3.12/site-packages (from tensorflow) (3.20.3)\n",
      "Requirement already satisfied: requests<3,>=2.21.0 in /usr/local/anaconda/lib/python3.12/site-packages (from tensorflow) (2.32.2)\n",
      "Requirement already satisfied: setuptools in /usr/local/anaconda/lib/python3.12/site-packages (from tensorflow) (69.5.1)\n",
      "Requirement already satisfied: six>=1.12.0 in /usr/local/anaconda/lib/python3.12/site-packages (from tensorflow) (1.16.0)\n",
      "Requirement already satisfied: termcolor>=1.1.0 in /usr/local/anaconda/lib/python3.12/site-packages (from tensorflow) (2.5.0)\n",
      "Requirement already satisfied: typing-extensions>=3.6.6 in /usr/local/anaconda/lib/python3.12/site-packages (from tensorflow) (4.11.0)\n",
      "Requirement already satisfied: wrapt>=1.11.0 in /usr/local/anaconda/lib/python3.12/site-packages (from tensorflow) (1.14.1)\n",
      "Requirement already satisfied: grpcio<2.0,>=1.24.3 in /usr/local/anaconda/lib/python3.12/site-packages (from tensorflow) (1.68.0)\n",
      "Requirement already satisfied: tensorboard<2.19,>=2.18 in /usr/local/anaconda/lib/python3.12/site-packages (from tensorflow) (2.18.0)\n",
      "Requirement already satisfied: keras>=3.5.0 in /usr/local/anaconda/lib/python3.12/site-packages (from tensorflow) (3.6.0)\n",
      "Requirement already satisfied: numpy<2.1.0,>=1.26.0 in /usr/local/anaconda/lib/python3.12/site-packages (from tensorflow) (1.26.4)\n",
      "Requirement already satisfied: h5py>=3.11.0 in /usr/local/anaconda/lib/python3.12/site-packages (from tensorflow) (3.11.0)\n",
      "Requirement already satisfied: ml-dtypes<0.5.0,>=0.4.0 in /usr/local/anaconda/lib/python3.12/site-packages (from tensorflow) (0.4.0)\n",
      "Requirement already satisfied: wheel<1.0,>=0.23.0 in /usr/local/anaconda/lib/python3.12/site-packages (from astunparse>=1.6.0->tensorflow) (0.43.0)\n",
      "Requirement already satisfied: rich in /usr/local/anaconda/lib/python3.12/site-packages (from keras>=3.5.0->tensorflow) (13.3.5)\n",
      "Requirement already satisfied: namex in /usr/local/anaconda/lib/python3.12/site-packages (from keras>=3.5.0->tensorflow) (0.0.8)\n",
      "Requirement already satisfied: optree in /usr/local/anaconda/lib/python3.12/site-packages (from keras>=3.5.0->tensorflow) (0.13.1)\n",
      "Requirement already satisfied: charset-normalizer<4,>=2 in /usr/local/anaconda/lib/python3.12/site-packages (from requests<3,>=2.21.0->tensorflow) (2.0.4)\n",
      "Requirement already satisfied: idna<4,>=2.5 in /usr/local/anaconda/lib/python3.12/site-packages (from requests<3,>=2.21.0->tensorflow) (3.7)\n",
      "Requirement already satisfied: urllib3<3,>=1.21.1 in /usr/local/anaconda/lib/python3.12/site-packages (from requests<3,>=2.21.0->tensorflow) (2.2.2)\n",
      "Requirement already satisfied: certifi>=2017.4.17 in /usr/local/anaconda/lib/python3.12/site-packages (from requests<3,>=2.21.0->tensorflow) (2024.7.4)\n",
      "Requirement already satisfied: markdown>=2.6.8 in /usr/local/anaconda/lib/python3.12/site-packages (from tensorboard<2.19,>=2.18->tensorflow) (3.4.1)\n",
      "Requirement already satisfied: tensorboard-data-server<0.8.0,>=0.7.0 in /usr/local/anaconda/lib/python3.12/site-packages (from tensorboard<2.19,>=2.18->tensorflow) (0.7.2)\n",
      "Requirement already satisfied: werkzeug>=1.0.1 in /usr/local/anaconda/lib/python3.12/site-packages (from tensorboard<2.19,>=2.18->tensorflow) (3.0.3)\n",
      "Requirement already satisfied: MarkupSafe>=2.1.1 in /usr/local/anaconda/lib/python3.12/site-packages (from werkzeug>=1.0.1->tensorboard<2.19,>=2.18->tensorflow) (2.1.3)\n",
      "Requirement already satisfied: markdown-it-py<3.0.0,>=2.2.0 in /usr/local/anaconda/lib/python3.12/site-packages (from rich->keras>=3.5.0->tensorflow) (2.2.0)\n",
      "Requirement already satisfied: pygments<3.0.0,>=2.13.0 in /usr/local/anaconda/lib/python3.12/site-packages (from rich->keras>=3.5.0->tensorflow) (2.15.1)\n",
      "Requirement already satisfied: mdurl~=0.1 in /usr/local/anaconda/lib/python3.12/site-packages (from markdown-it-py<3.0.0,>=2.2.0->rich->keras>=3.5.0->tensorflow) (0.1.0)\n",
      "Requirement already satisfied: astroNN in /usr/local/anaconda/lib/python3.12/site-packages (1.1.0)\n",
      "Requirement already satisfied: numpy in /usr/local/anaconda/lib/python3.12/site-packages (from astroNN) (1.26.4)\n",
      "Requirement already satisfied: astropy in /usr/local/anaconda/lib/python3.12/site-packages (from astroNN) (6.1.3)\n",
      "Requirement already satisfied: h5py in /usr/local/anaconda/lib/python3.12/site-packages (from astroNN) (3.11.0)\n",
      "Requirement already satisfied: matplotlib in /usr/local/anaconda/lib/python3.12/site-packages (from astroNN) (3.9.2)\n",
      "Requirement already satisfied: astroquery in /usr/local/anaconda/lib/python3.12/site-packages (from astroNN) (0.4.7)\n",
      "Requirement already satisfied: pandas in /usr/local/anaconda/lib/python3.12/site-packages (from astroNN) (2.2.2)\n",
      "Requirement already satisfied: scikit-learn in /usr/local/anaconda/lib/python3.12/site-packages (from astroNN) (1.4.2)\n",
      "Requirement already satisfied: tqdm in /usr/local/anaconda/lib/python3.12/site-packages (from astroNN) (4.66.4)\n",
      "Requirement already satisfied: packaging in /usr/local/anaconda/lib/python3.12/site-packages (from astroNN) (23.2)\n",
      "Requirement already satisfied: tensorflow>=2.11.0 in /usr/local/anaconda/lib/python3.12/site-packages (from astroNN) (2.18.0)\n",
      "Requirement already satisfied: tensorflow-probability>=0.19.0 in /usr/local/anaconda/lib/python3.12/site-packages (from astroNN) (0.25.0)\n",
      "Requirement already satisfied: absl-py>=1.0.0 in /usr/local/anaconda/lib/python3.12/site-packages (from tensorflow>=2.11.0->astroNN) (2.1.0)\n",
      "Requirement already satisfied: astunparse>=1.6.0 in /usr/local/anaconda/lib/python3.12/site-packages (from tensorflow>=2.11.0->astroNN) (1.6.3)\n",
      "Requirement already satisfied: flatbuffers>=24.3.25 in /usr/local/anaconda/lib/python3.12/site-packages (from tensorflow>=2.11.0->astroNN) (24.3.25)\n",
      "Requirement already satisfied: gast!=0.5.0,!=0.5.1,!=0.5.2,>=0.2.1 in /usr/local/anaconda/lib/python3.12/site-packages (from tensorflow>=2.11.0->astroNN) (0.6.0)\n",
      "Requirement already satisfied: google-pasta>=0.1.1 in /usr/local/anaconda/lib/python3.12/site-packages (from tensorflow>=2.11.0->astroNN) (0.2.0)\n",
      "Requirement already satisfied: libclang>=13.0.0 in /usr/local/anaconda/lib/python3.12/site-packages (from tensorflow>=2.11.0->astroNN) (18.1.1)\n",
      "Requirement already satisfied: opt-einsum>=2.3.2 in /usr/local/anaconda/lib/python3.12/site-packages (from tensorflow>=2.11.0->astroNN) (3.3.0)\n",
      "Requirement already satisfied: protobuf!=4.21.0,!=4.21.1,!=4.21.2,!=4.21.3,!=4.21.4,!=4.21.5,<6.0.0dev,>=3.20.3 in /usr/local/anaconda/lib/python3.12/site-packages (from tensorflow>=2.11.0->astroNN) (3.20.3)\n",
      "Requirement already satisfied: requests<3,>=2.21.0 in /usr/local/anaconda/lib/python3.12/site-packages (from tensorflow>=2.11.0->astroNN) (2.32.2)\n",
      "Requirement already satisfied: setuptools in /usr/local/anaconda/lib/python3.12/site-packages (from tensorflow>=2.11.0->astroNN) (69.5.1)\n",
      "Requirement already satisfied: six>=1.12.0 in /usr/local/anaconda/lib/python3.12/site-packages (from tensorflow>=2.11.0->astroNN) (1.16.0)\n",
      "Requirement already satisfied: termcolor>=1.1.0 in /usr/local/anaconda/lib/python3.12/site-packages (from tensorflow>=2.11.0->astroNN) (2.5.0)\n",
      "Requirement already satisfied: typing-extensions>=3.6.6 in /usr/local/anaconda/lib/python3.12/site-packages (from tensorflow>=2.11.0->astroNN) (4.11.0)\n",
      "Requirement already satisfied: wrapt>=1.11.0 in /usr/local/anaconda/lib/python3.12/site-packages (from tensorflow>=2.11.0->astroNN) (1.14.1)\n",
      "Requirement already satisfied: grpcio<2.0,>=1.24.3 in /usr/local/anaconda/lib/python3.12/site-packages (from tensorflow>=2.11.0->astroNN) (1.68.0)\n",
      "Requirement already satisfied: tensorboard<2.19,>=2.18 in /usr/local/anaconda/lib/python3.12/site-packages (from tensorflow>=2.11.0->astroNN) (2.18.0)\n",
      "Requirement already satisfied: keras>=3.5.0 in /usr/local/anaconda/lib/python3.12/site-packages (from tensorflow>=2.11.0->astroNN) (3.6.0)\n",
      "Requirement already satisfied: ml-dtypes<0.5.0,>=0.4.0 in /usr/local/anaconda/lib/python3.12/site-packages (from tensorflow>=2.11.0->astroNN) (0.4.0)\n",
      "Requirement already satisfied: decorator in /usr/local/anaconda/lib/python3.12/site-packages (from tensorflow-probability>=0.19.0->astroNN) (5.1.1)\n",
      "Requirement already satisfied: cloudpickle>=1.3 in /usr/local/anaconda/lib/python3.12/site-packages (from tensorflow-probability>=0.19.0->astroNN) (2.2.1)\n",
      "Requirement already satisfied: dm-tree in /usr/local/anaconda/lib/python3.12/site-packages (from tensorflow-probability>=0.19.0->astroNN) (0.1.8)\n",
      "Requirement already satisfied: pyerfa>=2.0.1.1 in /usr/local/anaconda/lib/python3.12/site-packages (from astropy->astroNN) (2.0.1.4)\n",
      "Requirement already satisfied: astropy-iers-data>=0.2024.7.29.0.32.7 in /usr/local/anaconda/lib/python3.12/site-packages (from astropy->astroNN) (0.2024.9.2.0.33.23)\n",
      "Requirement already satisfied: PyYAML>=3.13 in /usr/local/anaconda/lib/python3.12/site-packages (from astropy->astroNN) (6.0.1)\n",
      "Requirement already satisfied: beautifulsoup4>=4.8 in /usr/local/anaconda/lib/python3.12/site-packages (from astroquery->astroNN) (4.12.3)\n",
      "Requirement already satisfied: html5lib>=0.999 in /usr/local/anaconda/lib/python3.12/site-packages (from astroquery->astroNN) (1.1)\n",
      "Requirement already satisfied: keyring>=15.0 in /usr/local/anaconda/lib/python3.12/site-packages (from astroquery->astroNN) (24.3.1)\n",
      "Requirement already satisfied: pyvo>=1.1 in /usr/local/anaconda/lib/python3.12/site-packages (from astroquery->astroNN) (1.6)\n",
      "Requirement already satisfied: contourpy>=1.0.1 in /usr/local/anaconda/lib/python3.12/site-packages (from matplotlib->astroNN) (1.2.0)\n",
      "Requirement already satisfied: cycler>=0.10 in /usr/local/anaconda/lib/python3.12/site-packages (from matplotlib->astroNN) (0.11.0)\n",
      "Requirement already satisfied: fonttools>=4.22.0 in /usr/local/anaconda/lib/python3.12/site-packages (from matplotlib->astroNN) (4.51.0)\n",
      "Requirement already satisfied: kiwisolver>=1.3.1 in /usr/local/anaconda/lib/python3.12/site-packages (from matplotlib->astroNN) (1.4.4)\n",
      "Requirement already satisfied: pillow>=8 in /usr/local/anaconda/lib/python3.12/site-packages (from matplotlib->astroNN) (10.3.0)\n",
      "Requirement already satisfied: pyparsing>=2.3.1 in /usr/local/anaconda/lib/python3.12/site-packages (from matplotlib->astroNN) (3.0.9)\n",
      "Requirement already satisfied: python-dateutil>=2.7 in /usr/local/anaconda/lib/python3.12/site-packages (from matplotlib->astroNN) (2.9.0.post0)\n",
      "Requirement already satisfied: pytz>=2020.1 in /usr/local/anaconda/lib/python3.12/site-packages (from pandas->astroNN) (2024.1)\n",
      "Requirement already satisfied: tzdata>=2022.7 in /usr/local/anaconda/lib/python3.12/site-packages (from pandas->astroNN) (2023.3)\n",
      "Requirement already satisfied: scipy>=1.6.0 in /usr/local/anaconda/lib/python3.12/site-packages (from scikit-learn->astroNN) (1.13.1)\n",
      "Requirement already satisfied: joblib>=1.2.0 in /usr/local/anaconda/lib/python3.12/site-packages (from scikit-learn->astroNN) (1.4.2)\n",
      "Requirement already satisfied: threadpoolctl>=2.0.0 in /usr/local/anaconda/lib/python3.12/site-packages (from scikit-learn->astroNN) (3.5.0)\n",
      "Requirement already satisfied: wheel<1.0,>=0.23.0 in /usr/local/anaconda/lib/python3.12/site-packages (from astunparse>=1.6.0->tensorflow>=2.11.0->astroNN) (0.43.0)\n",
      "Requirement already satisfied: soupsieve>1.2 in /usr/local/anaconda/lib/python3.12/site-packages (from beautifulsoup4>=4.8->astroquery->astroNN) (2.5)\n",
      "Requirement already satisfied: webencodings in /usr/local/anaconda/lib/python3.12/site-packages (from html5lib>=0.999->astroquery->astroNN) (0.5.1)\n",
      "Requirement already satisfied: rich in /usr/local/anaconda/lib/python3.12/site-packages (from keras>=3.5.0->tensorflow>=2.11.0->astroNN) (13.3.5)\n",
      "Requirement already satisfied: namex in /usr/local/anaconda/lib/python3.12/site-packages (from keras>=3.5.0->tensorflow>=2.11.0->astroNN) (0.0.8)\n",
      "Requirement already satisfied: optree in /usr/local/anaconda/lib/python3.12/site-packages (from keras>=3.5.0->tensorflow>=2.11.0->astroNN) (0.13.1)\n",
      "Requirement already satisfied: jaraco.classes in /usr/local/anaconda/lib/python3.12/site-packages (from keyring>=15.0->astroquery->astroNN) (3.2.1)\n",
      "Requirement already satisfied: charset-normalizer<4,>=2 in /usr/local/anaconda/lib/python3.12/site-packages (from requests<3,>=2.21.0->tensorflow>=2.11.0->astroNN) (2.0.4)\n",
      "Requirement already satisfied: idna<4,>=2.5 in /usr/local/anaconda/lib/python3.12/site-packages (from requests<3,>=2.21.0->tensorflow>=2.11.0->astroNN) (3.7)\n",
      "Requirement already satisfied: urllib3<3,>=1.21.1 in /usr/local/anaconda/lib/python3.12/site-packages (from requests<3,>=2.21.0->tensorflow>=2.11.0->astroNN) (2.2.2)\n",
      "Requirement already satisfied: certifi>=2017.4.17 in /usr/local/anaconda/lib/python3.12/site-packages (from requests<3,>=2.21.0->tensorflow>=2.11.0->astroNN) (2024.7.4)\n",
      "Requirement already satisfied: markdown>=2.6.8 in /usr/local/anaconda/lib/python3.12/site-packages (from tensorboard<2.19,>=2.18->tensorflow>=2.11.0->astroNN) (3.4.1)\n",
      "Requirement already satisfied: tensorboard-data-server<0.8.0,>=0.7.0 in /usr/local/anaconda/lib/python3.12/site-packages (from tensorboard<2.19,>=2.18->tensorflow>=2.11.0->astroNN) (0.7.2)\n",
      "Requirement already satisfied: werkzeug>=1.0.1 in /usr/local/anaconda/lib/python3.12/site-packages (from tensorboard<2.19,>=2.18->tensorflow>=2.11.0->astroNN) (3.0.3)\n",
      "Requirement already satisfied: MarkupSafe>=2.1.1 in /usr/local/anaconda/lib/python3.12/site-packages (from werkzeug>=1.0.1->tensorboard<2.19,>=2.18->tensorflow>=2.11.0->astroNN) (2.1.3)\n",
      "Requirement already satisfied: more-itertools in /usr/local/anaconda/lib/python3.12/site-packages (from jaraco.classes->keyring>=15.0->astroquery->astroNN) (10.1.0)\n",
      "Requirement already satisfied: markdown-it-py<3.0.0,>=2.2.0 in /usr/local/anaconda/lib/python3.12/site-packages (from rich->keras>=3.5.0->tensorflow>=2.11.0->astroNN) (2.2.0)\n",
      "Requirement already satisfied: pygments<3.0.0,>=2.13.0 in /usr/local/anaconda/lib/python3.12/site-packages (from rich->keras>=3.5.0->tensorflow>=2.11.0->astroNN) (2.15.1)\n",
      "Requirement already satisfied: mdurl~=0.1 in /usr/local/anaconda/lib/python3.12/site-packages (from markdown-it-py<3.0.0,>=2.2.0->rich->keras>=3.5.0->tensorflow>=2.11.0->astroNN) (0.1.0)\n",
      "Requirement already satisfied: tensorflow in /usr/local/anaconda/lib/python3.12/site-packages (2.18.0)\n",
      "Requirement already satisfied: tensorflow-probability in /usr/local/anaconda/lib/python3.12/site-packages (0.25.0)\n",
      "Requirement already satisfied: absl-py>=1.0.0 in /usr/local/anaconda/lib/python3.12/site-packages (from tensorflow) (2.1.0)\n",
      "Requirement already satisfied: astunparse>=1.6.0 in /usr/local/anaconda/lib/python3.12/site-packages (from tensorflow) (1.6.3)\n",
      "Requirement already satisfied: flatbuffers>=24.3.25 in /usr/local/anaconda/lib/python3.12/site-packages (from tensorflow) (24.3.25)\n",
      "Requirement already satisfied: gast!=0.5.0,!=0.5.1,!=0.5.2,>=0.2.1 in /usr/local/anaconda/lib/python3.12/site-packages (from tensorflow) (0.6.0)\n",
      "Requirement already satisfied: google-pasta>=0.1.1 in /usr/local/anaconda/lib/python3.12/site-packages (from tensorflow) (0.2.0)\n",
      "Requirement already satisfied: libclang>=13.0.0 in /usr/local/anaconda/lib/python3.12/site-packages (from tensorflow) (18.1.1)\n",
      "Requirement already satisfied: opt-einsum>=2.3.2 in /usr/local/anaconda/lib/python3.12/site-packages (from tensorflow) (3.3.0)\n",
      "Requirement already satisfied: packaging in /usr/local/anaconda/lib/python3.12/site-packages (from tensorflow) (23.2)\n",
      "Requirement already satisfied: protobuf!=4.21.0,!=4.21.1,!=4.21.2,!=4.21.3,!=4.21.4,!=4.21.5,<6.0.0dev,>=3.20.3 in /usr/local/anaconda/lib/python3.12/site-packages (from tensorflow) (3.20.3)\n",
      "Requirement already satisfied: requests<3,>=2.21.0 in /usr/local/anaconda/lib/python3.12/site-packages (from tensorflow) (2.32.2)\n",
      "Requirement already satisfied: setuptools in /usr/local/anaconda/lib/python3.12/site-packages (from tensorflow) (69.5.1)\n",
      "Requirement already satisfied: six>=1.12.0 in /usr/local/anaconda/lib/python3.12/site-packages (from tensorflow) (1.16.0)\n",
      "Requirement already satisfied: termcolor>=1.1.0 in /usr/local/anaconda/lib/python3.12/site-packages (from tensorflow) (2.5.0)\n",
      "Requirement already satisfied: typing-extensions>=3.6.6 in /usr/local/anaconda/lib/python3.12/site-packages (from tensorflow) (4.11.0)\n",
      "Requirement already satisfied: wrapt>=1.11.0 in /usr/local/anaconda/lib/python3.12/site-packages (from tensorflow) (1.14.1)\n",
      "Requirement already satisfied: grpcio<2.0,>=1.24.3 in /usr/local/anaconda/lib/python3.12/site-packages (from tensorflow) (1.68.0)\n",
      "Requirement already satisfied: tensorboard<2.19,>=2.18 in /usr/local/anaconda/lib/python3.12/site-packages (from tensorflow) (2.18.0)\n",
      "Requirement already satisfied: keras>=3.5.0 in /usr/local/anaconda/lib/python3.12/site-packages (from tensorflow) (3.6.0)\n",
      "Requirement already satisfied: numpy<2.1.0,>=1.26.0 in /usr/local/anaconda/lib/python3.12/site-packages (from tensorflow) (1.26.4)\n",
      "Requirement already satisfied: h5py>=3.11.0 in /usr/local/anaconda/lib/python3.12/site-packages (from tensorflow) (3.11.0)\n",
      "Requirement already satisfied: ml-dtypes<0.5.0,>=0.4.0 in /usr/local/anaconda/lib/python3.12/site-packages (from tensorflow) (0.4.0)\n",
      "Requirement already satisfied: decorator in /usr/local/anaconda/lib/python3.12/site-packages (from tensorflow-probability) (5.1.1)\n",
      "Requirement already satisfied: cloudpickle>=1.3 in /usr/local/anaconda/lib/python3.12/site-packages (from tensorflow-probability) (2.2.1)\n",
      "Requirement already satisfied: dm-tree in /usr/local/anaconda/lib/python3.12/site-packages (from tensorflow-probability) (0.1.8)\n",
      "Requirement already satisfied: wheel<1.0,>=0.23.0 in /usr/local/anaconda/lib/python3.12/site-packages (from astunparse>=1.6.0->tensorflow) (0.43.0)\n",
      "Requirement already satisfied: rich in /usr/local/anaconda/lib/python3.12/site-packages (from keras>=3.5.0->tensorflow) (13.3.5)\n",
      "Requirement already satisfied: namex in /usr/local/anaconda/lib/python3.12/site-packages (from keras>=3.5.0->tensorflow) (0.0.8)\n",
      "Requirement already satisfied: optree in /usr/local/anaconda/lib/python3.12/site-packages (from keras>=3.5.0->tensorflow) (0.13.1)\n",
      "Requirement already satisfied: charset-normalizer<4,>=2 in /usr/local/anaconda/lib/python3.12/site-packages (from requests<3,>=2.21.0->tensorflow) (2.0.4)\n",
      "Requirement already satisfied: idna<4,>=2.5 in /usr/local/anaconda/lib/python3.12/site-packages (from requests<3,>=2.21.0->tensorflow) (3.7)\n",
      "Requirement already satisfied: urllib3<3,>=1.21.1 in /usr/local/anaconda/lib/python3.12/site-packages (from requests<3,>=2.21.0->tensorflow) (2.2.2)\n",
      "Requirement already satisfied: certifi>=2017.4.17 in /usr/local/anaconda/lib/python3.12/site-packages (from requests<3,>=2.21.0->tensorflow) (2024.7.4)\n",
      "Requirement already satisfied: markdown>=2.6.8 in /usr/local/anaconda/lib/python3.12/site-packages (from tensorboard<2.19,>=2.18->tensorflow) (3.4.1)\n",
      "Requirement already satisfied: tensorboard-data-server<0.8.0,>=0.7.0 in /usr/local/anaconda/lib/python3.12/site-packages (from tensorboard<2.19,>=2.18->tensorflow) (0.7.2)\n",
      "Requirement already satisfied: werkzeug>=1.0.1 in /usr/local/anaconda/lib/python3.12/site-packages (from tensorboard<2.19,>=2.18->tensorflow) (3.0.3)\n",
      "Requirement already satisfied: MarkupSafe>=2.1.1 in /usr/local/anaconda/lib/python3.12/site-packages (from werkzeug>=1.0.1->tensorboard<2.19,>=2.18->tensorflow) (2.1.3)\n",
      "Requirement already satisfied: markdown-it-py<3.0.0,>=2.2.0 in /usr/local/anaconda/lib/python3.12/site-packages (from rich->keras>=3.5.0->tensorflow) (2.2.0)\n",
      "Requirement already satisfied: pygments<3.0.0,>=2.13.0 in /usr/local/anaconda/lib/python3.12/site-packages (from rich->keras>=3.5.0->tensorflow) (2.15.1)\n",
      "Requirement already satisfied: mdurl~=0.1 in /usr/local/anaconda/lib/python3.12/site-packages (from markdown-it-py<3.0.0,>=2.2.0->rich->keras>=3.5.0->tensorflow) (0.1.0)\n",
      "Requirement already satisfied: tensorflow-probability[tf] in /usr/local/anaconda/lib/python3.12/site-packages (0.25.0)\n",
      "Requirement already satisfied: absl-py in /usr/local/anaconda/lib/python3.12/site-packages (from tensorflow-probability[tf]) (2.1.0)\n",
      "Requirement already satisfied: six>=1.10.0 in /usr/local/anaconda/lib/python3.12/site-packages (from tensorflow-probability[tf]) (1.16.0)\n",
      "Requirement already satisfied: numpy>=1.13.3 in /usr/local/anaconda/lib/python3.12/site-packages (from tensorflow-probability[tf]) (1.26.4)\n",
      "Requirement already satisfied: decorator in /usr/local/anaconda/lib/python3.12/site-packages (from tensorflow-probability[tf]) (5.1.1)\n",
      "Requirement already satisfied: cloudpickle>=1.3 in /usr/local/anaconda/lib/python3.12/site-packages (from tensorflow-probability[tf]) (2.2.1)\n",
      "Requirement already satisfied: gast>=0.3.2 in /usr/local/anaconda/lib/python3.12/site-packages (from tensorflow-probability[tf]) (0.6.0)\n",
      "Requirement already satisfied: dm-tree in /usr/local/anaconda/lib/python3.12/site-packages (from tensorflow-probability[tf]) (0.1.8)\n",
      "Requirement already satisfied: tensorflow>=2.16 in /usr/local/anaconda/lib/python3.12/site-packages (from tensorflow-probability[tf]) (2.18.0)\n",
      "Requirement already satisfied: tf-keras>=2.16 in /usr/local/anaconda/lib/python3.12/site-packages (from tensorflow-probability[tf]) (2.18.0)\n",
      "Requirement already satisfied: astunparse>=1.6.0 in /usr/local/anaconda/lib/python3.12/site-packages (from tensorflow>=2.16->tensorflow-probability[tf]) (1.6.3)\n",
      "Requirement already satisfied: flatbuffers>=24.3.25 in /usr/local/anaconda/lib/python3.12/site-packages (from tensorflow>=2.16->tensorflow-probability[tf]) (24.3.25)\n",
      "Requirement already satisfied: google-pasta>=0.1.1 in /usr/local/anaconda/lib/python3.12/site-packages (from tensorflow>=2.16->tensorflow-probability[tf]) (0.2.0)\n",
      "Requirement already satisfied: libclang>=13.0.0 in /usr/local/anaconda/lib/python3.12/site-packages (from tensorflow>=2.16->tensorflow-probability[tf]) (18.1.1)\n",
      "Requirement already satisfied: opt-einsum>=2.3.2 in /usr/local/anaconda/lib/python3.12/site-packages (from tensorflow>=2.16->tensorflow-probability[tf]) (3.3.0)\n",
      "Requirement already satisfied: packaging in /usr/local/anaconda/lib/python3.12/site-packages (from tensorflow>=2.16->tensorflow-probability[tf]) (23.2)\n",
      "Requirement already satisfied: protobuf!=4.21.0,!=4.21.1,!=4.21.2,!=4.21.3,!=4.21.4,!=4.21.5,<6.0.0dev,>=3.20.3 in /usr/local/anaconda/lib/python3.12/site-packages (from tensorflow>=2.16->tensorflow-probability[tf]) (3.20.3)\n",
      "Requirement already satisfied: requests<3,>=2.21.0 in /usr/local/anaconda/lib/python3.12/site-packages (from tensorflow>=2.16->tensorflow-probability[tf]) (2.32.2)\n",
      "Requirement already satisfied: setuptools in /usr/local/anaconda/lib/python3.12/site-packages (from tensorflow>=2.16->tensorflow-probability[tf]) (69.5.1)\n",
      "Requirement already satisfied: termcolor>=1.1.0 in /usr/local/anaconda/lib/python3.12/site-packages (from tensorflow>=2.16->tensorflow-probability[tf]) (2.5.0)\n",
      "Requirement already satisfied: typing-extensions>=3.6.6 in /usr/local/anaconda/lib/python3.12/site-packages (from tensorflow>=2.16->tensorflow-probability[tf]) (4.11.0)\n",
      "Requirement already satisfied: wrapt>=1.11.0 in /usr/local/anaconda/lib/python3.12/site-packages (from tensorflow>=2.16->tensorflow-probability[tf]) (1.14.1)\n",
      "Requirement already satisfied: grpcio<2.0,>=1.24.3 in /usr/local/anaconda/lib/python3.12/site-packages (from tensorflow>=2.16->tensorflow-probability[tf]) (1.68.0)\n",
      "Requirement already satisfied: tensorboard<2.19,>=2.18 in /usr/local/anaconda/lib/python3.12/site-packages (from tensorflow>=2.16->tensorflow-probability[tf]) (2.18.0)\n",
      "Requirement already satisfied: keras>=3.5.0 in /usr/local/anaconda/lib/python3.12/site-packages (from tensorflow>=2.16->tensorflow-probability[tf]) (3.6.0)\n",
      "Requirement already satisfied: h5py>=3.11.0 in /usr/local/anaconda/lib/python3.12/site-packages (from tensorflow>=2.16->tensorflow-probability[tf]) (3.11.0)\n",
      "Requirement already satisfied: ml-dtypes<0.5.0,>=0.4.0 in /usr/local/anaconda/lib/python3.12/site-packages (from tensorflow>=2.16->tensorflow-probability[tf]) (0.4.0)\n",
      "Requirement already satisfied: wheel<1.0,>=0.23.0 in /usr/local/anaconda/lib/python3.12/site-packages (from astunparse>=1.6.0->tensorflow>=2.16->tensorflow-probability[tf]) (0.43.0)\n",
      "Requirement already satisfied: rich in /usr/local/anaconda/lib/python3.12/site-packages (from keras>=3.5.0->tensorflow>=2.16->tensorflow-probability[tf]) (13.3.5)\n",
      "Requirement already satisfied: namex in /usr/local/anaconda/lib/python3.12/site-packages (from keras>=3.5.0->tensorflow>=2.16->tensorflow-probability[tf]) (0.0.8)\n",
      "Requirement already satisfied: optree in /usr/local/anaconda/lib/python3.12/site-packages (from keras>=3.5.0->tensorflow>=2.16->tensorflow-probability[tf]) (0.13.1)\n",
      "Requirement already satisfied: charset-normalizer<4,>=2 in /usr/local/anaconda/lib/python3.12/site-packages (from requests<3,>=2.21.0->tensorflow>=2.16->tensorflow-probability[tf]) (2.0.4)\n",
      "Requirement already satisfied: idna<4,>=2.5 in /usr/local/anaconda/lib/python3.12/site-packages (from requests<3,>=2.21.0->tensorflow>=2.16->tensorflow-probability[tf]) (3.7)\n",
      "Requirement already satisfied: urllib3<3,>=1.21.1 in /usr/local/anaconda/lib/python3.12/site-packages (from requests<3,>=2.21.0->tensorflow>=2.16->tensorflow-probability[tf]) (2.2.2)\n",
      "Requirement already satisfied: certifi>=2017.4.17 in /usr/local/anaconda/lib/python3.12/site-packages (from requests<3,>=2.21.0->tensorflow>=2.16->tensorflow-probability[tf]) (2024.7.4)\n",
      "Requirement already satisfied: markdown>=2.6.8 in /usr/local/anaconda/lib/python3.12/site-packages (from tensorboard<2.19,>=2.18->tensorflow>=2.16->tensorflow-probability[tf]) (3.4.1)\n",
      "Requirement already satisfied: tensorboard-data-server<0.8.0,>=0.7.0 in /usr/local/anaconda/lib/python3.12/site-packages (from tensorboard<2.19,>=2.18->tensorflow>=2.16->tensorflow-probability[tf]) (0.7.2)\n",
      "Requirement already satisfied: werkzeug>=1.0.1 in /usr/local/anaconda/lib/python3.12/site-packages (from tensorboard<2.19,>=2.18->tensorflow>=2.16->tensorflow-probability[tf]) (3.0.3)\n",
      "Requirement already satisfied: MarkupSafe>=2.1.1 in /usr/local/anaconda/lib/python3.12/site-packages (from werkzeug>=1.0.1->tensorboard<2.19,>=2.18->tensorflow>=2.16->tensorflow-probability[tf]) (2.1.3)\n",
      "Requirement already satisfied: markdown-it-py<3.0.0,>=2.2.0 in /usr/local/anaconda/lib/python3.12/site-packages (from rich->keras>=3.5.0->tensorflow>=2.16->tensorflow-probability[tf]) (2.2.0)\n",
      "Requirement already satisfied: pygments<3.0.0,>=2.13.0 in /usr/local/anaconda/lib/python3.12/site-packages (from rich->keras>=3.5.0->tensorflow>=2.16->tensorflow-probability[tf]) (2.15.1)\n",
      "Requirement already satisfied: mdurl~=0.1 in /usr/local/anaconda/lib/python3.12/site-packages (from markdown-it-py<3.0.0,>=2.2.0->rich->keras>=3.5.0->tensorflow>=2.16->tensorflow-probability[tf]) (0.1.0)\n"
     ]
    }
   ],
   "source": [
    "### MAKE SURE YOU HAVE ALL OF THIS INSTALLED BEFORE RUNNING THE CODE ###\n",
    "\n",
    "# Pip intalling necessary items\n",
    "! pip install datasets\n",
    "! pip install datasets[vision] #used to work with the Image features \n",
    "\n",
    "# I will be using Pytorch for this project, so I will install it here. But you can use Tensorflow if you prefer\n",
    "! pip install torch\n",
    "! pip install torchvision\n",
    "\n",
    "\n",
    "# I will be using the Hugging Face Transformers library for this project\n",
    "! pip install transformers[torch]\n",
    "! pip install \"accelerate>=0.26.0\"\n",
    "! pip install transformers\n",
    "! pip install evaluate\n",
    "! pip install Pillow\n",
    "\n",
    "! pip install keras\n",
    "! pip install tensorflow\n",
    "! pip install astroNN\n",
    "! pip install --upgrade tensorflow tensorflow-probability\n",
    "! pip install tensorflow-probability\\[tf\\]\n"
   ]
  },
  {
   "cell_type": "code",
   "execution_count": 2,
   "metadata": {},
   "outputs": [],
   "source": [
    "import numpy as np \n",
    "import evaluate\n",
    "import torch\n",
    "import torch.nn as nn\n",
    "import matplotlib.pyplot as plt\n",
    "\n",
    "from datasets import load_dataset, Image\n",
    "from transformers import AutoImageProcessor\n",
    "from torchvision.transforms import Compose, ColorJitter, ToTensor,  RandomResizedCrop, Normalize\n",
    "from transformers import DefaultDataCollator\n",
    "from torchvision import transforms as Trans\n",
    "from torch.utils.data import DataLoader\n",
    "from transformers import AutoModelForImageClassification, TrainingArguments, Trainer\n",
    "from transformers import ViTFeatureExtractor, ViTForImageClassification, ViTImageProcessor, SwinForImageClassification\n",
    "from transformers import pipeline\n",
    "from PIL import Image\n",
    "from evaluate import load\n",
    "\n",
    "\n"
   ]
  },
  {
   "cell_type": "markdown",
   "metadata": {},
   "source": [
    "This is the dataset that we will be playing with: [https://huggingface.co/datasets/AI-Lab-Makerere/beans]"
   ]
  },
  {
   "cell_type": "code",
   "execution_count": 3,
   "metadata": {},
   "outputs": [],
   "source": [
    "# loading the Beans dataset\n",
    "# beans dataset is a public Hugging Face dataset \n",
    "# It contans images of plants and their health classification\n",
    "dataset = load_dataset(\"beans\") "
   ]
  },
  {
   "cell_type": "code",
   "execution_count": 4,
   "metadata": {},
   "outputs": [
    {
     "data": {
      "text/plain": [
       "{'image_file_path': Value(dtype='string', id=None),\n",
       " 'image': Image(mode=None, decode=True, id=None),\n",
       " 'labels': ClassLabel(names=['angular_leaf_spot', 'bean_rust', 'healthy'], id=None)}"
      ]
     },
     "execution_count": 4,
     "metadata": {},
     "output_type": "execute_result"
    }
   ],
   "source": [
    "# In order to check the features of the training data, we can use the following\n",
    "# This shows that there are three different classes in the datset: angular_leaf_spot, bean_rust, healthy \n",
    "dataset[\"train\"].features"
   ]
  },
  {
   "cell_type": "code",
   "execution_count": 5,
   "metadata": {},
   "outputs": [],
   "source": [
    "# save the label names in a variable \n",
    "labels = dataset['train'].features['labels'].names"
   ]
  },
  {
   "cell_type": "code",
   "execution_count": 6,
   "metadata": {},
   "outputs": [],
   "source": [
    "# A feature extractor is needed to preprocess the image into a TENSOR\n",
    "# I use the Swin Transformer for this project\n",
    "checkpoint = \"microsoft/swin-tiny-patch4-window7-224\"\n",
    "image_processor = AutoImageProcessor.from_pretrained(checkpoint)\n"
   ]
  },
  {
   "cell_type": "code",
   "execution_count": null,
   "metadata": {},
   "outputs": [],
   "source": [
    "# Define a transform pipeline for random cropping\n",
    "random_crop_transform = Trans.Compose([\n",
    "    Trans.RandomResizedCrop(size=(224, 224)),  # Random crop to 224x224\n",
    "    Trans.RandomHorizontalFlip(),              # Optional: Add random flipping for augmentation\n",
    "])"
   ]
  },
  {
   "cell_type": "code",
   "execution_count": 8,
   "metadata": {},
   "outputs": [],
   "source": [
    "# This is the feature extractor that will be used to preprocess the images\n",
    "# What this does is that it takes the image and preprocesses it into a tensor\n",
    "# You must have your data in tensor form before passing it into the training model\n",
    "def transforms(example_batch):\n",
    "    # Take a list of PIL images and turn them to pixel values\n",
    "    # inputs = image_processor([x for x in example_batch['image']], return_tensors='pt')\n",
    "\n",
    "    cropped_images = [random_crop_transform(x) for x in example_batch['image']]\n",
    "    inputs = image_processor(cropped_images, return_tensors='pt')\n",
    "\n",
    "    # Don't forget to include the labels!\n",
    "    inputs['labels'] = example_batch['labels']\n",
    "    return inputs"
   ]
  },
  {
   "cell_type": "code",
   "execution_count": 9,
   "metadata": {},
   "outputs": [],
   "source": [
    "# Apply the transform function to the dataset\n",
    "dataset_new = dataset.with_transform(transforms)"
   ]
  },
  {
   "cell_type": "code",
   "execution_count": 10,
   "metadata": {},
   "outputs": [],
   "source": [
    "# Now we combine individual processed samples from the dataset into a single batch to be passed to the model\n",
    "# for this, I will use the function below. It is nice to have this function, because the default collate function, may not work \n",
    "# with the custom dataset that we are using.\n",
    "\n",
    "def collate_fn(batch):\n",
    "    return {\n",
    "        'pixel_values': torch.stack([x['pixel_values'] for x in batch]),\n",
    "        'labels': torch.tensor([x['labels'] for x in batch])\n",
    "    }\n"
   ]
  },
  {
   "cell_type": "code",
   "execution_count": 11,
   "metadata": {},
   "outputs": [],
   "source": [
    "# Next, we need to define metric and a function that will compute the metrics for when we train our model. \n",
    "# This will help evaluate the performance of the model\n",
    "accuracy = load(\"accuracy\")\n",
    "metric = evaluate.load(\"accuracy\")\n",
    "\n",
    "def compute_metrics(p):\n",
    "    return metric.compute(predictions=np.argmax(p.predictions, axis=1), references=p.label_ids)\n",
    "\n"
   ]
  },
  {
   "cell_type": "code",
   "execution_count": 12,
   "metadata": {},
   "outputs": [
    {
     "name": "stderr",
     "output_type": "stream",
     "text": [
      "Some weights of SwinForImageClassification were not initialized from the model checkpoint at microsoft/swin-tiny-patch4-window7-224 and are newly initialized because the shapes did not match:\n",
      "- classifier.bias: found shape torch.Size([1000]) in the checkpoint and torch.Size([3]) in the model instantiated\n",
      "- classifier.weight: found shape torch.Size([1000, 768]) in the checkpoint and torch.Size([3, 768]) in the model instantiated\n",
      "You should probably TRAIN this model on a down-stream task to be able to use it for predictions and inference.\n"
     ]
    }
   ],
   "source": [
    "labels = dataset['train'].features['labels'].names\n",
    "\n",
    "# Load the model with ignore_mismatched_sizes to bypass a size mismatch issue\n",
    "model = AutoModelForImageClassification.from_pretrained(\n",
    "    checkpoint,\n",
    "    num_labels=len(labels),\n",
    "    id2label={str(i): c for i, c in enumerate(labels)},\n",
    "    label2id={c: str(i) for i, c in enumerate(labels)},\n",
    "    ignore_mismatched_sizes=True\n",
    ")\n",
    "\n",
    "# Create a new classifier layer with the correct number of labels\n",
    "model.classifier = nn.Linear(in_features=model.classifier.in_features, out_features=len(labels))\n"
   ]
  },
  {
   "cell_type": "code",
   "execution_count": null,
   "metadata": {},
   "outputs": [
    {
     "name": "stderr",
     "output_type": "stream",
     "text": [
      "/usr/local/anaconda/lib/python3.12/site-packages/transformers/training_args.py:1568: FutureWarning: `evaluation_strategy` is deprecated and will be removed in version 4.46 of 🤗 Transformers. Use `eval_strategy` instead\n",
      "  warnings.warn(\n",
      "/usr/local/anaconda/lib/python3.12/site-packages/transformers/training_args.py:1583: FutureWarning: using `no_cuda` is deprecated and will be removed in version 5.0 of 🤗 Transformers. Use `use_cpu` instead\n",
      "  warnings.warn(\n"
     ]
    }
   ],
   "source": [
    "# Now we can define the training arguments\n",
    "# These arguments are the ones that typically change according to your model and dataset\n",
    "training_args = TrainingArguments(\n",
    "    output_dir=\"plant_classification\",           # This is the output directory where the model checkpoints and predictions will be written\n",
    "    per_device_train_batch_size=16,              # Batch size for training\n",
    "    evaluation_strategy=\"steps\",                 # Evaluate the model every 100 steps (same as eval_steps)\n",
    "    num_train_epochs=3,                          # We will train the model for 2 epochs              \n",
    "    warmup_ratio=0.1,                            # Ratio of total steps used for a linear warmup from 0 to the initial learning rate           \n",
    "    weight_decay=0.01,                           # Regularization term to prevent overfitting\n",
    "    fp16=False,                                  # Disable mixed precision training (useful for GPUs; enable by setting this to True)\n",
    "    save_steps=100,                              # Save model checkpoint every 100 steps\n",
    "    eval_steps=100,                              # Evaluate the model every 100 steps\n",
    "    logging_steps=10,                            # Log metrics and training progress every 10 steps\n",
    "    learning_rate=2e-5,                          # Initial learning rate for the optimizer\n",
    "    save_total_limit=2,                          # Keep only the last 2 checkpoints to save disk space\n",
    "    remove_unused_columns=False,                 # Prevent removing unused columns from the dataset during training\n",
    "    push_to_hub=True,                            # Save the trained model to the Hugging Face Hub\n",
    "    report_to='tensorboard',                     # Log metrics and training information to TensorBoard\n",
    "    load_best_model_at_end=True,                 # Automatically load the best model at the end of training\n",
    "    no_cuda=True,                                # Force the use of CPU (if you have a GPU, remove this line, and you may set fp16 to True)\n",
    ")    "
   ]
  },
  {
   "cell_type": "code",
   "execution_count": 18,
   "metadata": {},
   "outputs": [
    {
     "name": "stderr",
     "output_type": "stream",
     "text": [
      "/var/folders/6w/4l8xsqjn63b50789db29p6tm0000gr/T/ipykernel_19687/3344926699.py:2: FutureWarning: `tokenizer` is deprecated and will be removed in version 5.0.0 for `Trainer.__init__`. Use `processing_class` instead.\n",
      "  trainer = Trainer(\n"
     ]
    }
   ],
   "source": [
    "# Now we can define the trainer\n",
    "trainer = Trainer(\n",
    "    model=model,\n",
    "    args=training_args,\n",
    "    data_collator=collate_fn,\n",
    "    compute_metrics=compute_metrics,\n",
    "    train_dataset=dataset_new[\"train\"],\n",
    "    eval_dataset=dataset_new[\"validation\"],\n",
    "    tokenizer=image_processor,\n",
    ")"
   ]
  },
  {
   "cell_type": "code",
   "execution_count": null,
   "metadata": {},
   "outputs": [
    {
     "data": {
      "application/vnd.jupyter.widget-view+json": {
       "model_id": "e8d9e2bff0084ec6a640dab697ec75df",
       "version_major": 2,
       "version_minor": 0
      },
      "text/plain": [
       "  0%|          | 0/195 [00:00<?, ?it/s]"
      ]
     },
     "metadata": {},
     "output_type": "display_data"
    },
    {
     "name": "stdout",
     "output_type": "stream",
     "text": [
      "{'loss': 0.1489, 'grad_norm': 6.943637371063232, 'learning_rate': 1e-05, 'epoch': 0.15}\n",
      "{'loss': 0.1356, 'grad_norm': 9.124574661254883, 'learning_rate': 2e-05, 'epoch': 0.31}\n",
      "{'loss': 0.1911, 'grad_norm': 7.689700603485107, 'learning_rate': 1.885714285714286e-05, 'epoch': 0.46}\n",
      "{'loss': 0.1066, 'grad_norm': 7.400233745574951, 'learning_rate': 1.7714285714285717e-05, 'epoch': 0.62}\n",
      "{'loss': 0.0544, 'grad_norm': 3.349994659423828, 'learning_rate': 1.6571428571428574e-05, 'epoch': 0.77}\n",
      "{'loss': 0.134, 'grad_norm': 9.765637397766113, 'learning_rate': 1.542857142857143e-05, 'epoch': 0.92}\n",
      "{'loss': 0.1074, 'grad_norm': 19.633617401123047, 'learning_rate': 1.4285714285714287e-05, 'epoch': 1.08}\n",
      "{'loss': 0.1085, 'grad_norm': 3.591390609741211, 'learning_rate': 1.3142857142857145e-05, 'epoch': 1.23}\n",
      "{'loss': 0.1634, 'grad_norm': 27.50710105895996, 'learning_rate': 1.2e-05, 'epoch': 1.38}\n",
      "{'loss': 0.1008, 'grad_norm': 4.543381690979004, 'learning_rate': 1.0857142857142858e-05, 'epoch': 1.54}\n"
     ]
    },
    {
     "data": {
      "application/vnd.jupyter.widget-view+json": {
       "model_id": "add844e5014649f582967fbca7aa51ee",
       "version_major": 2,
       "version_minor": 0
      },
      "text/plain": [
       "  0%|          | 0/17 [00:00<?, ?it/s]"
      ]
     },
     "metadata": {},
     "output_type": "display_data"
    },
    {
     "name": "stdout",
     "output_type": "stream",
     "text": [
      "{'eval_loss': 0.03722032904624939, 'eval_accuracy': 0.9849624060150376, 'eval_runtime': 5.0736, 'eval_samples_per_second': 26.214, 'eval_steps_per_second': 3.351, 'epoch': 1.54}\n",
      "{'loss': 0.1279, 'grad_norm': 2.21695613861084, 'learning_rate': 9.714285714285715e-06, 'epoch': 1.69}\n",
      "{'loss': 0.2238, 'grad_norm': 6.652666091918945, 'learning_rate': 8.571428571428571e-06, 'epoch': 1.85}\n",
      "{'loss': 0.0992, 'grad_norm': 0.9972898960113525, 'learning_rate': 7.428571428571429e-06, 'epoch': 2.0}\n",
      "{'loss': 0.0509, 'grad_norm': 18.499359130859375, 'learning_rate': 6.285714285714286e-06, 'epoch': 2.15}\n",
      "{'loss': 0.0489, 'grad_norm': 6.813304424285889, 'learning_rate': 5.142857142857142e-06, 'epoch': 2.31}\n",
      "{'loss': 0.1177, 'grad_norm': 1.1648198366165161, 'learning_rate': 4.000000000000001e-06, 'epoch': 2.46}\n",
      "{'loss': 0.0439, 'grad_norm': 1.3854161500930786, 'learning_rate': 2.8571428571428573e-06, 'epoch': 2.62}\n",
      "{'loss': 0.1212, 'grad_norm': 16.453393936157227, 'learning_rate': 1.7142857142857145e-06, 'epoch': 2.77}\n",
      "{'loss': 0.1127, 'grad_norm': 32.35971450805664, 'learning_rate': 5.714285714285715e-07, 'epoch': 2.92}\n",
      "{'train_runtime': 291.9458, 'train_samples_per_second': 10.625, 'train_steps_per_second': 0.668, 'train_loss': 0.11464136074750851, 'epoch': 3.0}\n",
      "***** train metrics *****\n",
      "  epoch                    =        3.0\n",
      "  total_flos               = 71810029GF\n",
      "  train_loss               =     0.1146\n",
      "  train_runtime            = 0:04:51.94\n",
      "  train_samples_per_second =     10.625\n",
      "  train_steps_per_second   =      0.668\n"
     ]
    }
   ],
   "source": [
    "# Here we actually train the model and evaluate it\n",
    "#### This takes about 4 minutes to run on a CPU ####\n",
    "train_results = trainer.train()\n",
    "\n",
    "trainer.save_model()\n",
    "trainer.log_metrics(\"train\", train_results.metrics)\n",
    "trainer.save_metrics(\"train\", train_results.metrics)\n",
    "trainer.save_state()"
   ]
  },
  {
   "cell_type": "code",
   "execution_count": 21,
   "metadata": {},
   "outputs": [
    {
     "data": {
      "application/vnd.jupyter.widget-view+json": {
       "model_id": "ea2939917d03400f90e36ce7095855d5",
       "version_major": 2,
       "version_minor": 0
      },
      "text/plain": [
       "  0%|          | 0/17 [00:00<?, ?it/s]"
      ]
     },
     "metadata": {},
     "output_type": "display_data"
    },
    {
     "name": "stdout",
     "output_type": "stream",
     "text": [
      "***** eval metrics *****\n",
      "  epoch                   =        3.0\n",
      "  eval_accuracy           =     0.9699\n",
      "  eval_loss               =     0.0792\n",
      "  eval_runtime            = 0:00:04.49\n",
      "  eval_samples_per_second =     29.575\n",
      "  eval_steps_per_second   =       3.78\n"
     ]
    }
   ],
   "source": [
    "metrics = trainer.evaluate()\n",
    "\n",
    "# some nice to haves:\n",
    "trainer.log_metrics(\"eval\", metrics)\n",
    "trainer.save_metrics(\"eval\", metrics)"
   ]
  },
  {
   "cell_type": "markdown",
   "metadata": {},
   "source": [
    "Congrats, you have now trained your model. Check 'testing_model' for a way in which you can test your model"
   ]
  }
 ],
 "metadata": {
  "kernelspec": {
   "display_name": "base",
   "language": "python",
   "name": "python3"
  },
  "language_info": {
   "codemirror_mode": {
    "name": "ipython",
    "version": 3
   },
   "file_extension": ".py",
   "mimetype": "text/x-python",
   "name": "python",
   "nbconvert_exporter": "python",
   "pygments_lexer": "ipython3",
   "version": "3.12.4"
  }
 },
 "nbformat": 4,
 "nbformat_minor": 4
}
